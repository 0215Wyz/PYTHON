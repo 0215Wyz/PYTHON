{
 "cells": [
  {
   "cell_type": "markdown",
   "metadata": {},
   "source": [
    "按文件中数据的组织形式可以把文件分为**文本文件**和**二进制文件**两大类<br>\n",
    "Python内置了文件对象，通过open()函数即可以指定模式打开指定文件并创建文件对象。<br>\n",
    "函数的用法是：<br>\n",
    "open(file, mode='r', buffering=-1, encoding=None, errors=None, newline=None, closed=True, opener=None)\n",
    "- file:要打开或者要创建的文件名，不在当前路径下的话，需要指定完整的路径，可以使用原始字符串\n",
    "- mode:只读，只写，读写，追加，二进制只读，二进制读写等，默认是文本只读模式\n",
    "- buffering:指定读写文件的缓存模式，0表示不缓存，1表示缓存，大于1表示缓冲区大小。\n",
    "- encoding: 对文本进行编码和解码的方式\n",
    "- newline:只适用于文本模式，取值有多种选择，表示文件中新行的形式\n",
    "\n",
    "**注意：**<br>\n",
    "当对文件内容操作完以后，一定要关闭文件对象。\n",
    "\n",
    "** 6-1 文本打开方式**<br>\n",
    "\n",
    "| 模式 | 说明 |\n",
    "| :-: | :-: |\n",
    "| r | 读模式(默认模式，可省略)，如果文件不存在则抛出异常 |\n",
    "| w | 写模式，如果文件已存在，先清空原有内容 |\n",
    "| x | 写模式，创建新文件，如果文件已存在则抛出异常 |\n",
    "| a | 追加模式，不覆盖文件中原有内容 |\n",
    "| b | 二进制模式(可与其他模式组合使用) |\n",
    "| t | 文本模式(默认模式，可省略) |\n",
    "| + | 读、写模式(可与其他模式组合使用) |\n",
    "\n",
    "** 6-2 文件对象的常用属性**<br>\n",
    "\n",
    "| 属性 | 说明 |\n",
    "| - | - |\n",
    "| closed | 判断文件是否关闭，若文件关闭则返回True |\n",
    "| mode | 返回文件的打开模式 |\n",
    "| name | 返回文件的名称 |\n",
    "\n",
    "** 6-3 文件对象的常用方法**<br>\n",
    "\n",
    "| 方法 | 功能说明 |\n",
    "| :-: | :-: |\n",
    "| flush() | 把缓冲区的内容写入文件，但不关闭文件 |\n",
    "| close() | 把缓冲区的内容写入文件，同时关闭文件，并释放文件对象 |\n",
    "| read(\\[size\\]) | 从文件中读取size个字节或字符的内容作为结果返回，如果省略，则表示读取所有内容 |\n",
    "| readline() | 从文件中读取一行内容作为返回 |\n",
    "| readlines() | 把文件中的每一行文本作为一个字符串存入列表中，返回该列表 |\n",
    "| seek(offset\\[,whence\\]) | 把文件指针移到新的位置，offset表示相对于whence的位置。whence为0表示从文件开头计算，1表示从当前位置进行计算，2表示从文件尾开始计算，默认为0 |\n",
    "| tell() | 返回文件指针的当前位置 |\n",
    "| write(s) | 把字符串s的内容写入文件 |\n",
    "| writelines(s) | 把字符串列表写入文本文件，不添加换行符 |\n",
    "| writable() | 测试当前文件是否可写 |\n",
    "| readable() | 测试当前文件是否可读 |\n"
   ]
  },
  {
   "cell_type": "markdown",
   "metadata": {},
   "source": [
    "**例1 ：** 向文本文件中写入内容，然后再读出"
   ]
  },
  {
   "cell_type": "code",
   "execution_count": 1,
   "metadata": {},
   "outputs": [
    {
     "name": "stdout",
     "output_type": "stream",
     "text": [
      "Hello world1\n",
      "Hello world2\n",
      "Hello world3\n",
      "\n",
      "Hello world1\n",
      "Hello world2\n",
      "Hello world3\n"
     ]
    }
   ],
   "source": [
    "s = 'Hello world1\\nHello world2\\nHello world3'\n",
    "print(s)\n",
    "print()\n",
    "with open('sample.txt','w') as fp:\n",
    "    fp.write(s)\n",
    "with open('sample.txt','r') as fp:\n",
    "    print(fp.read())"
   ]
  },
  {
   "cell_type": "markdown",
   "metadata": {},
   "source": [
    "**例2 ：**读取并显示文本文件中的前5个字符"
   ]
  },
  {
   "cell_type": "code",
   "execution_count": 2,
   "metadata": {},
   "outputs": [
    {
     "name": "stdout",
     "output_type": "stream",
     "text": [
      "s =  Hello\n",
      "len(s) =  5\n"
     ]
    }
   ],
   "source": [
    "f = open('sample.txt','r')\n",
    "s = f.read(5) #读取文件的前5个字符\n",
    "f.close()\n",
    "print('s = ',s)\n",
    "print('len(s) = ',len(s))"
   ]
  },
  {
   "cell_type": "markdown",
   "metadata": {},
   "source": [
    "**例3：**读取文本文件的内容"
   ]
  },
  {
   "cell_type": "code",
   "execution_count": 3,
   "metadata": {},
   "outputs": [],
   "source": [
    "fp = open('sample.txt','r')"
   ]
  },
  {
   "cell_type": "code",
   "execution_count": 4,
   "metadata": {},
   "outputs": [
    {
     "name": "stdout",
     "output_type": "stream",
     "text": [
      "Hell\n"
     ]
    }
   ],
   "source": [
    "print(fp.read(4)) #从当前位置读取前4个字符"
   ]
  },
  {
   "cell_type": "code",
   "execution_count": 5,
   "metadata": {},
   "outputs": [
    {
     "name": "stdout",
     "output_type": "stream",
     "text": [
      "o world1\n",
      "Hello wor\n"
     ]
    }
   ],
   "source": [
    "print(fp.read(18)) #可以注意到，文件指针在这里，是从上一次结束的地方继续往后读取内容，也可以用seek来进行调整"
   ]
  },
  {
   "cell_type": "code",
   "execution_count": 6,
   "metadata": {},
   "outputs": [
    {
     "name": "stdout",
     "output_type": "stream",
     "text": [
      "ld2\n",
      "Hello world3\n"
     ]
    }
   ],
   "source": [
    "print(fp.read()) #从当前位置读取后面的所有内容"
   ]
  },
  {
   "cell_type": "code",
   "execution_count": 7,
   "metadata": {},
   "outputs": [],
   "source": [
    "fp.close() #关闭文件对象"
   ]
  },
  {
   "cell_type": "markdown",
   "metadata": {},
   "source": [
    "**例4：**读取并显示文本文件所有行<br>\n",
    "关键字with可以自动管理资源，不论因为什么原因（哪怕是代码引发了异常）跳出with块，总能保证文件被正确关闭，并且可以在代码块执行完毕后自动还原进入该代码块时的现场。<br>\n",
    "- 文件对象是可以迭代的\n",
    "- 也可以使用readlines()方法来实现，但是操作**大文件**时不建议这么做，因为会消耗大量的内存资源"
   ]
  },
  {
   "cell_type": "code",
   "execution_count": 8,
   "metadata": {},
   "outputs": [
    {
     "name": "stdout",
     "output_type": "stream",
     "text": [
      "Hello world1\n",
      "Hello world2\n",
      "Hello world3"
     ]
    }
   ],
   "source": [
    "with open('sample.txt','r') as fp:\n",
    "    for line in fp:\n",
    "        # 因为“\\n”也在那一行中\n",
    "        print(line,end=\"\")"
   ]
  },
  {
   "cell_type": "markdown",
   "metadata": {},
   "source": [
    "**例5：**读取data.txt中的所有整数，将其按升序排序后再写入文本文件\n",
    "\n",
    "![data_before](data_before.PNG)\n",
    "![data_after](data_after.PNG)"
   ]
  },
  {
   "cell_type": "code",
   "execution_count": 9,
   "metadata": {},
   "outputs": [],
   "source": [
    "with open ('data.txt','r') as fp:\n",
    "    data = fp.readlines()\n",
    "    # readlines() 把文本文件的每一行文本作为一个字符串存入列表中，返回该列表\n",
    "data = [int(line.strip()) for line in data]\n",
    "data.sort()\n",
    "data = [str(i)+'\\n' for i in data]\n",
    "with open('data_asc.txt','w') as fp:\n",
    "    fp.writelines(data)"
   ]
  },
  {
   "cell_type": "markdown",
   "metadata": {},
   "source": [
    "#### 提问：为啥4会多出来一个空格???\n",
    "答：因为在创建demo.py的时候最后一行没有按下回车键直接保存的，所以其他行除了那12个字符以外还有一个“\\n”，只要在最后一行按下回车，就可以得到你想要的结果了"
   ]
  },
  {
   "cell_type": "code",
   "execution_count": 10,
   "metadata": {},
   "outputs": [],
   "source": [
    "filename = 'demo.py'\n",
    "with open(filename,'r') as fp:\n",
    "    lines = fp.readlines()\n",
    "#假设每行最长不超过30个字符，在第30列插入行号\n",
    "lines = [line.rstrip()+' '*(30-len(line))+'#'+str(index)+'\\n' for index,line in enumerate(lines)]\n",
    "with open(filename[:4]+'_new.py','w') as fp:\n",
    "    fp.writelines(lines)"
   ]
  },
  {
   "cell_type": "code",
   "execution_count": 11,
   "metadata": {},
   "outputs": [
    {
     "name": "stdout",
     "output_type": "stream",
     "text": [
      "['Hello world1                 #0\\n', 'Hello world2                 #1\\n', 'Hello world3                 #2\\n', 'Hello world4                 #3\\n', 'Hello world5                 #4\\n']\n"
     ]
    }
   ],
   "source": [
    "print(lines)"
   ]
  },
  {
   "cell_type": "markdown",
   "metadata": {},
   "source": [
    "![demo](demo.PNG)\n",
    "![demonew](demonew.PNG)"
   ]
  },
  {
   "cell_type": "markdown",
   "metadata": {},
   "source": [
    "# 二进制文件<br>\n",
    "- 数据库文件，图像文件，可执行文件，音视频文件，Office文档等等均属于二进制文件。\n",
    "- 无法通过Python的文件对象直接读取和理解二进制文件的内容。必须要理解二进制文件结构和系列化规则。\n",
    "   - 所谓序列化，简单地说就是那内存中的数据在不丢失其类型信息的情况下**转成对象的二进制形式**的过程，对象序列化后的形式经过**正确的反序列化过程**应该能够准确无误的恢复原来的对象。\n",
    "- Python中常用的序列化模块有struct，pickle，marshal，shelve。<br>\n",
    "\n",
    "### 使用pickle模块读写二进制文件\n",
    "- 提供的dump()方法用于将数据序列化写入文件\n",
    "- load()用于读取二进制文件内容并进行反序列化"
   ]
  },
  {
   "cell_type": "markdown",
   "metadata": {},
   "source": [
    "**例1：**使用pickle模块读写二进制文件"
   ]
  },
  {
   "cell_type": "code",
   "execution_count": 12,
   "metadata": {},
   "outputs": [],
   "source": [
    "import pickle\n",
    "n = 7\n",
    "i = 13000000\n",
    "a = 99.056\n",
    "s = '中国人民 abc123'\n",
    "lst = [[1,2,3],[4,5,6],[7,8,9]]\n",
    "tu = (-5,10,8)\n",
    "coll = {4,5,6}\n",
    "dic = {'a':'apple','b':'boy','c':'compare'}\n",
    "f = open('sample_pickle.txt','wb')\n",
    "data = [i,a,s,lst,tu,coll,dic]\n",
    "try:\n",
    "    '''\n",
    "    pickle.dump(n,f) #对象个数\n",
    "    pickle.dump(i,f) #写入整数\n",
    "    pickle.dump(a,f) #写入实数\n",
    "    pickle.dump(s,f) #写入字符串\n",
    "    pickle.dump(lst,f) #写入列表\n",
    "    pickle.dump(tu,f) #写入元组\n",
    "    pickle.dump(coll,f) #写入集合\n",
    "    pickle.dump(dic,f) #写入字典\n",
    "    '''\n",
    "    pickle.dump(len(data),f)\n",
    "    for item in data:\n",
    "        pickle.dump(item,f)\n",
    "except:\n",
    "    print('写文件异常')\n",
    "finally:\n",
    "    f.close()"
   ]
  },
  {
   "cell_type": "markdown",
   "metadata": {},
   "source": [
    "**例2：**使用pickle模块读取sample_pickle.txt中的内容"
   ]
  },
  {
   "cell_type": "code",
   "execution_count": 13,
   "metadata": {},
   "outputs": [
    {
     "name": "stdout",
     "output_type": "stream",
     "text": [
      "13000000\n",
      "99.056\n",
      "中国人民 abc123\n",
      "[[1, 2, 3], [4, 5, 6], [7, 8, 9]]\n",
      "(-5, 10, 8)\n",
      "{4, 5, 6}\n",
      "{'a': 'apple', 'b': 'boy', 'c': 'compare'}\n"
     ]
    }
   ],
   "source": [
    "f = open('sample_pickle.txt','rb')\n",
    "n = pickle.load(f)\n",
    "for i in range(n):\n",
    "    x = pickle.load(f)\n",
    "    print(x)\n",
    "f.close()"
   ]
  },
  {
   "cell_type": "markdown",
   "metadata": {},
   "source": [
    "### 使用struct模块读写二进制文件\n",
    "- 使用struct模块需要使用pack()方法把对象按照指定个数进行序列化，然后使用文件对象write()方法将序列化结果写入二进制文件\n",
    "- 读取时需要使用read()方法读取二进制文件的内容\n",
    "- 然后使用struct模块的unpack()方法反序列化得到原来的信息"
   ]
  },
  {
   "cell_type": "markdown",
   "metadata": {},
   "source": [
    "写入"
   ]
  },
  {
   "cell_type": "code",
   "execution_count": 14,
   "metadata": {},
   "outputs": [],
   "source": [
    "import struct \n",
    "n = 130000000\n",
    "x = 96.45\n",
    "b = True\n",
    "s = 'a1@中国'\n",
    "sn = struct.pack('if?',n,x,b) \n",
    "f = open('sample_struct.txt','wb')\n",
    "f.write(sn)\n",
    "f.write(s.encode())\n",
    "f.close()"
   ]
  },
  {
   "cell_type": "markdown",
   "metadata": {},
   "source": [
    "读取"
   ]
  },
  {
   "cell_type": "code",
   "execution_count": 15,
   "metadata": {},
   "outputs": [
    {
     "name": "stdout",
     "output_type": "stream",
     "text": [
      "(130000000, 96.44999694824219, True)\n",
      "n =  130000000 x =  96.44999694824219 b1 =  True\n",
      "s =  a1@中国\n"
     ]
    }
   ],
   "source": [
    "import struct\n",
    "f = open('sample_struct.txt','rb')\n",
    "sn = f.read(9)\n",
    "tu = struct.unpack('if?',sn)\n",
    "print(tu)\n",
    "n,x,b1 = tu\n",
    "print(\"n = \",n,'x = ',x,'b1 = ',b1)\n",
    "s = f.read(9)\n",
    "s = s.decode()\n",
    "print('s = ',s)"
   ]
  },
  {
   "cell_type": "markdown",
   "metadata": {},
   "source": [
    "### 使用marshal模块操作二进制文件"
   ]
  },
  {
   "cell_type": "code",
   "execution_count": 16,
   "metadata": {},
   "outputs": [
    {
     "data": {
      "text/plain": [
       "[30, 5.0, [1, 2, 3], (4, 5, 6), {'a': 1, 'b': 2, 'c': 3}, {7, 8, 9}]"
      ]
     },
     "execution_count": 16,
     "metadata": {},
     "output_type": "execute_result"
    }
   ],
   "source": [
    "import marshal\n",
    "x1 = 30\n",
    "x2 = 5.0\n",
    "x3 = [1,2,3]\n",
    "x4 = (4,5,6)\n",
    "x5 = {'a':1,'b':2,'c':3}\n",
    "x6 = {7,8,9}\n",
    "x = [eval('x'+str(i)) for i in range(1,7)]\n",
    "x"
   ]
  },
  {
   "cell_type": "code",
   "execution_count": 17,
   "metadata": {},
   "outputs": [
    {
     "name": "stdout",
     "output_type": "stream",
     "text": [
      "30\n",
      "5.0\n",
      "[1, 2, 3]\n",
      "(4, 5, 6)\n",
      "{'a': 1, 'b': 2, 'c': 3}\n",
      "{8, 9, 7}\n"
     ]
    }
   ],
   "source": [
    "with open('sample_marshal.txt','wb') as fp: #创建二进制文件\n",
    "    marshal.dump(len(x),fp) #先写入对象的个数\n",
    "    for item in x:\n",
    "        marshal.dump(item,fp) #把列表中的对象依次序列化写入文件\n",
    "with open('sample_marshal.txt','rb') as fp: #打开二进制文件\n",
    "    n = marshal.load(fp) #获取对象个数\n",
    "    for i in range(n):\n",
    "        print(marshal.load(fp)) #反序列化，输出结果"
   ]
  },
  {
   "cell_type": "markdown",
   "metadata": {},
   "source": [
    "### 使用shelve模块操作二进制文件\n",
    "可以像字典赋值一样来写入二进制文件\n",
    "也可以向字典一样读取二进制文件\n",
    "（有没有点像C++STL中的map）"
   ]
  },
  {
   "cell_type": "code",
   "execution_count": 26,
   "metadata": {},
   "outputs": [],
   "source": [
    "import shelve #导入模块\n",
    "fp = shelve.open('sample_shelve.txt')\n",
    "zhangsan = {'age':38,'sex':'Male','Address':'SDIBT'}\n",
    "fp['zhangsan'] = zhangsan #写入文件内容\n",
    "lisi = {'age':40,'sex':'Male','qq':'1234567','tel':'7654321'}\n",
    "fp['lisi'] = lisi #写入文件内容\n",
    "fp.close()"
   ]
  },
  {
   "cell_type": "code",
   "execution_count": 27,
   "metadata": {},
   "outputs": [
    {
     "name": "stdout",
     "output_type": "stream",
     "text": [
      "40\n"
     ]
    }
   ],
   "source": [
    "fp = shelve.open('sample_shelve.txt')\n",
    "print(fp['lisi']['age'])"
   ]
  },
  {
   "cell_type": "code",
   "execution_count": 28,
   "metadata": {},
   "outputs": [
    {
     "name": "stdout",
     "output_type": "stream",
     "text": [
      "1234567\n"
     ]
    }
   ],
   "source": [
    "print(fp['lisi']['qq'])"
   ]
  },
  {
   "cell_type": "code",
   "execution_count": 29,
   "metadata": {},
   "outputs": [],
   "source": [
    "fp.close()"
   ]
  },
  {
   "cell_type": "code",
   "execution_count": null,
   "metadata": {},
   "outputs": [],
   "source": []
  }
 ],
 "metadata": {
  "kernelspec": {
   "display_name": "Python 3",
   "language": "python",
   "name": "python3"
  },
  "language_info": {
   "codemirror_mode": {
    "name": "ipython",
    "version": 3
   },
   "file_extension": ".py",
   "mimetype": "text/x-python",
   "name": "python",
   "nbconvert_exporter": "python",
   "pygments_lexer": "ipython3",
   "version": "3.6.5"
  }
 },
 "nbformat": 4,
 "nbformat_minor": 2
}
