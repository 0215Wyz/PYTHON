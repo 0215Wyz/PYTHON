{
 "cells": [
  {
   "cell_type": "markdown",
   "metadata": {},
   "source": [
    "元组对象可以组合"
   ]
  },
  {
   "cell_type": "code",
   "execution_count": 1,
   "metadata": {},
   "outputs": [
    {
     "name": "stdout",
     "output_type": "stream",
     "text": [
      "(1, 2, 'a', 'b')\n"
     ]
    }
   ],
   "source": [
    "t1 = (1,2)\n",
    "t2 = ('a','b')\n",
    "t = t1 + t2\n",
    "print(t)"
   ]
  },
  {
   "cell_type": "markdown",
   "metadata": {},
   "source": [
    "元组中的值不允许删除，但是可以通过del来删除整个元组"
   ]
  },
  {
   "cell_type": "code",
   "execution_count": 2,
   "metadata": {},
   "outputs": [
    {
     "name": "stdout",
     "output_type": "stream",
     "text": [
      "(1, 2, 3, 4)\n"
     ]
    },
    {
     "ename": "NameError",
     "evalue": "name 't' is not defined",
     "output_type": "error",
     "traceback": [
      "\u001b[1;31m---------------------------------------------------------------------------\u001b[0m",
      "\u001b[1;31mNameError\u001b[0m                                 Traceback (most recent call last)",
      "\u001b[1;32m<ipython-input-2-9480adea721e>\u001b[0m in \u001b[0;36m<module>\u001b[1;34m\u001b[0m\n\u001b[0;32m      2\u001b[0m \u001b[0mprint\u001b[0m\u001b[1;33m(\u001b[0m\u001b[0mt\u001b[0m\u001b[1;33m)\u001b[0m\u001b[1;33m\u001b[0m\u001b[1;33m\u001b[0m\u001b[0m\n\u001b[0;32m      3\u001b[0m \u001b[1;32mdel\u001b[0m \u001b[0mt\u001b[0m\u001b[1;33m\u001b[0m\u001b[1;33m\u001b[0m\u001b[0m\n\u001b[1;32m----> 4\u001b[1;33m \u001b[0mprint\u001b[0m\u001b[1;33m(\u001b[0m\u001b[0mt\u001b[0m\u001b[1;33m)\u001b[0m\u001b[1;33m\u001b[0m\u001b[1;33m\u001b[0m\u001b[0m\n\u001b[0m",
      "\u001b[1;31mNameError\u001b[0m: name 't' is not defined"
     ]
    }
   ],
   "source": [
    "t = (1,2,3,4)\n",
    "print(t)\n",
    "del t\n",
    "print(t)"
   ]
  },
  {
   "cell_type": "markdown",
   "metadata": {},
   "source": [
    "跟列表一样，元组中的元素数据类型必须一致时，才能使用max()/min()函数，否则会出错"
   ]
  },
  {
   "cell_type": "code",
   "execution_count": 3,
   "metadata": {},
   "outputs": [
    {
     "name": "stdout",
     "output_type": "stream",
     "text": [
      "ddd\n",
      "aaaaa\n"
     ]
    }
   ],
   "source": [
    "a = ('aaaaa','acs','cdf','ddd')\n",
    "print(max(a))\n",
    "print(min(a))"
   ]
  },
  {
   "cell_type": "code",
   "execution_count": 4,
   "metadata": {},
   "outputs": [
    {
     "name": "stdout",
     "output_type": "stream",
     "text": [
      "\\n\n",
      "\\n\n"
     ]
    }
   ],
   "source": [
    "print(\"\\\\n\")\n",
    "print(r\"\\n\")"
   ]
  },
  {
   "cell_type": "markdown",
   "metadata": {},
   "source": [
    "字符串的方法：  \n",
    "capitalize() 将字符串中的第一个字母大写，其余字母小写  \n",
    "upper()  \n",
    "lower()  \n",
    "title() 返回“标题化”的字符串，所有单词都是以大写开始，其余字母均为小写  \n",
    "swapcase() 将字符串的大小写进行转换"
   ]
  },
  {
   "cell_type": "code",
   "execution_count": 5,
   "metadata": {},
   "outputs": [
    {
     "name": "stdout",
     "output_type": "stream",
     "text": [
      "Hello tom how are you\n",
      "HELLO TOM HOW ARE YOU\n",
      "hello tom how are you\n",
      "Hello Tom How Are You\n",
      "HELLO toM hOW Are yOu\n"
     ]
    }
   ],
   "source": [
    "s = \"hello TOm How aRE YoU\"\n",
    "print(s.capitalize())\n",
    "print(s.upper())\n",
    "print(s.lower())\n",
    "print(s.title())\n",
    "print(s.swapcase())"
   ]
  },
  {
   "cell_type": "markdown",
   "metadata": {},
   "source": [
    "isalnum() 检测字符串是否由**字母**或**数字**组成，如果字符串中至少有一个字符，并且所有字符都是字母或数字则返回True，否则False  \n",
    "isalpha() 检测字符串是否由**字母**或**汉字**组成，如果字符串中至少有一个字符，并且所有字符都是字母或汉字则返回True，否则False  \n",
    "isdigit() 检测字符串是否**只由数字**组成"
   ]
  },
  {
   "cell_type": "code",
   "execution_count": 6,
   "metadata": {},
   "outputs": [
    {
     "name": "stdout",
     "output_type": "stream",
     "text": [
      "True\n",
      "True\n",
      "False\n",
      "------------\n",
      "True\n",
      "False\n",
      "False\n"
     ]
    }
   ],
   "source": [
    "s1 = \"123456sdfre\"\n",
    "s2 = \"1234567775321\"\n",
    "s3 = \"123 45654 432 sd\" #字符串中添加了空格\n",
    "print(s1.isalnum())\n",
    "print(s2.isalnum())\n",
    "print(s3.isalnum())\n",
    "s1 = \"axddcvfds中国\"\n",
    "s2 = \"1231234234 \" # 字符串中添加了空格\n",
    "print(\"------------\")\n",
    "print(s1.isalpha())\n",
    "print(s1.isdigit())\n",
    "print(s2.isdigit())"
   ]
  },
  {
   "cell_type": "markdown",
   "metadata": {},
   "source": [
    "count() 字符串中某个字符串出现的次数 str.count(s,start=0,end=len(str))"
   ]
  },
  {
   "cell_type": "code",
   "execution_count": 7,
   "metadata": {},
   "outputs": [
    {
     "name": "stdout",
     "output_type": "stream",
     "text": [
      "5\n",
      "1\n"
     ]
    }
   ],
   "source": [
    "s = \"aaaaaaaaaa\"#10个a\n",
    "print(s.count(\"aa\"))\n",
    "print(s.count(\"aa\",0,3))"
   ]
  },
  {
   "cell_type": "markdown",
   "metadata": {},
   "source": [
    "find() 字符串中是否包含子字符串，包含的话返回开始的索引值，否则返回-1"
   ]
  },
  {
   "cell_type": "code",
   "execution_count": 8,
   "metadata": {},
   "outputs": [
    {
     "name": "stdout",
     "output_type": "stream",
     "text": [
      "7\n",
      "3\n",
      "3\n",
      "-1\n"
     ]
    }
   ],
   "source": [
    "s = \"人生自古谁无死\"\n",
    "print(len(s))\n",
    "print(s.find(\"古\"))\n",
    "print(s.find(\"古\",3))\n",
    "print(s.find(\"古\",4,7))"
   ]
  },
  {
   "cell_type": "code",
   "execution_count": 9,
   "metadata": {},
   "outputs": [
    {
     "name": "stdout",
     "output_type": "stream",
     "text": [
      "3\n",
      "3\n"
     ]
    },
    {
     "ename": "ValueError",
     "evalue": "substring not found",
     "output_type": "error",
     "traceback": [
      "\u001b[1;31m---------------------------------------------------------------------------\u001b[0m",
      "\u001b[1;31mValueError\u001b[0m                                Traceback (most recent call last)",
      "\u001b[1;32m<ipython-input-9-ff8c437c285d>\u001b[0m in \u001b[0;36m<module>\u001b[1;34m\u001b[0m\n\u001b[0;32m      3\u001b[0m \u001b[0mprint\u001b[0m\u001b[1;33m(\u001b[0m\u001b[0ms\u001b[0m\u001b[1;33m.\u001b[0m\u001b[0mindex\u001b[0m\u001b[1;33m(\u001b[0m\u001b[0ms1\u001b[0m\u001b[1;33m)\u001b[0m\u001b[1;33m)\u001b[0m\u001b[1;33m\u001b[0m\u001b[1;33m\u001b[0m\u001b[0m\n\u001b[0;32m      4\u001b[0m \u001b[0mprint\u001b[0m\u001b[1;33m(\u001b[0m\u001b[0ms\u001b[0m\u001b[1;33m.\u001b[0m\u001b[0mindex\u001b[0m\u001b[1;33m(\u001b[0m\u001b[0ms1\u001b[0m\u001b[1;33m,\u001b[0m\u001b[1;36m3\u001b[0m\u001b[1;33m)\u001b[0m\u001b[1;33m)\u001b[0m\u001b[1;33m\u001b[0m\u001b[1;33m\u001b[0m\u001b[0m\n\u001b[1;32m----> 5\u001b[1;33m \u001b[0mprint\u001b[0m\u001b[1;33m(\u001b[0m\u001b[0ms\u001b[0m\u001b[1;33m.\u001b[0m\u001b[0mindex\u001b[0m\u001b[1;33m(\u001b[0m\u001b[0ms1\u001b[0m\u001b[1;33m,\u001b[0m\u001b[1;36m4\u001b[0m\u001b[1;33m,\u001b[0m\u001b[1;36m7\u001b[0m\u001b[1;33m)\u001b[0m\u001b[1;33m)\u001b[0m\u001b[1;33m\u001b[0m\u001b[1;33m\u001b[0m\u001b[0m\n\u001b[0m",
      "\u001b[1;31mValueError\u001b[0m: substring not found"
     ]
    }
   ],
   "source": [
    "s = \"人生自古谁无死\"\n",
    "s1 = \"古\"\n",
    "print(s.index(s1))\n",
    "print(s.index(s1,3))\n",
    "print(s.index(s1,4,7))"
   ]
  },
  {
   "cell_type": "markdown",
   "metadata": {},
   "source": [
    "str.join(sequence)"
   ]
  },
  {
   "cell_type": "code",
   "execution_count": 10,
   "metadata": {},
   "outputs": [
    {
     "name": "stdout",
     "output_type": "stream",
     "text": [
      "0619wyz\n",
      "0 6 1 9 w y z\n"
     ]
    }
   ],
   "source": [
    "s = (\"0\",\"6\",\"1\",\"9\",\"w\",\"y\",\"z\")\n",
    "print(\"\".join(s))\n",
    "print(\" \".join(s))"
   ]
  },
  {
   "cell_type": "markdown",
   "metadata": {},
   "source": [
    "str.replace(old,new\\[,max\\])"
   ]
  },
  {
   "cell_type": "code",
   "execution_count": 11,
   "metadata": {},
   "outputs": [
    {
     "name": "stdout",
     "output_type": "stream",
     "text": [
      "我喜欢的还是可乐\n",
      "雪碧雪碧苹果\n"
     ]
    }
   ],
   "source": [
    "s = \"我喜欢可乐\"\n",
    "print(s.replace(\"可乐\",\"的还是可乐\"))\n",
    "s = \"苹果苹果苹果\"\n",
    "print(s.replace(\"苹果\",\"雪碧\",2))"
   ]
  },
  {
   "cell_type": "code",
   "execution_count": 12,
   "metadata": {},
   "outputs": [
    {
     "name": "stdout",
     "output_type": "stream",
     "text": [
      "o\n",
      "e\n"
     ]
    }
   ],
   "source": [
    "s = \"hello\"\n",
    "print(max(s))\n",
    "print(min(s))"
   ]
  },
  {
   "cell_type": "code",
   "execution_count": 13,
   "metadata": {},
   "outputs": [
    {
     "ename": "TypeError",
     "evalue": "'str' object does not support item assignment",
     "output_type": "error",
     "traceback": [
      "\u001b[1;31m---------------------------------------------------------------------------\u001b[0m",
      "\u001b[1;31mTypeError\u001b[0m                                 Traceback (most recent call last)",
      "\u001b[1;32m<ipython-input-13-b4942fffaf6b>\u001b[0m in \u001b[0;36m<module>\u001b[1;34m\u001b[0m\n\u001b[0;32m      1\u001b[0m \u001b[0ms\u001b[0m \u001b[1;33m=\u001b[0m \u001b[1;34m\"abcd\"\u001b[0m\u001b[1;33m\u001b[0m\u001b[1;33m\u001b[0m\u001b[0m\n\u001b[1;32m----> 2\u001b[1;33m \u001b[0ms\u001b[0m\u001b[1;33m[\u001b[0m\u001b[1;36m1\u001b[0m\u001b[1;33m]\u001b[0m \u001b[1;33m=\u001b[0m \u001b[1;34m\"f\"\u001b[0m\u001b[1;33m\u001b[0m\u001b[1;33m\u001b[0m\u001b[0m\n\u001b[0m",
      "\u001b[1;31mTypeError\u001b[0m: 'str' object does not support item assignment"
     ]
    }
   ],
   "source": [
    "s = \"abcd\"\n",
    "s[1] = \"f\""
   ]
  },
  {
   "cell_type": "code",
   "execution_count": 14,
   "metadata": {},
   "outputs": [
    {
     "name": "stdout",
     "output_type": "stream",
     "text": [
      "aocd\n"
     ]
    }
   ],
   "source": [
    "s = \"abcd\"\n",
    "#本质是构造了一个新的字符串再赋值给x\n",
    "s = s[:1]+'o'+s[2:]\n",
    "print(s)"
   ]
  },
  {
   "cell_type": "code",
   "execution_count": 15,
   "metadata": {},
   "outputs": [
    {
     "name": "stdout",
     "output_type": "stream",
     "text": [
      "同比增长了 35%\n",
      "价格为12.35\n",
      "价格为12.3400\n"
     ]
    }
   ],
   "source": [
    "print(\"同比增长了 %d%%\" %35)\n",
    "print(\"价格为%.2f\" % 12.3456)\n",
    "print(\"价格为%.4f\" % 12.34)"
   ]
  },
  {
   "cell_type": "code",
   "execution_count": 16,
   "metadata": {},
   "outputs": [
    {
     "name": "stdout",
     "output_type": "stream",
     "text": [
      "10\n",
      "9\n",
      "8\n",
      "7\n",
      "6\n",
      "5\n",
      "4\n",
      "3\n",
      "2\n",
      "1\n",
      "bb=0小于等于0\n"
     ]
    }
   ],
   "source": [
    "bb = 10\n",
    "while bb>0:\n",
    "    print(bb)\n",
    "    bb-=1\n",
    "else:\n",
    "    print(\"bb=%d小于等于0\" % bb)"
   ]
  },
  {
   "cell_type": "code",
   "execution_count": 17,
   "metadata": {},
   "outputs": [
    {
     "name": "stdout",
     "output_type": "stream",
     "text": [
      "当前文字: 霜\n",
      "当前文字: 叶\n",
      "当前文字: 红\n",
      "当前文字: 于\n",
      "执行pass语句\n",
      "当前文字: 二\n",
      "当前文字: 月\n",
      "当前文字: 花\n",
      "搜索完毕\n"
     ]
    }
   ],
   "source": [
    "for aa in \"霜叶红于二月花\":\n",
    "    if aa == \"二\":\n",
    "        pass\n",
    "        print(\"执行pass语句\")\n",
    "    print(\"当前文字:\",aa)\n",
    "print(\"搜索完毕\")"
   ]
  },
  {
   "cell_type": "code",
   "execution_count": 18,
   "metadata": {},
   "outputs": [
    {
     "name": "stdout",
     "output_type": "stream",
     "text": [
      "4\n",
      "8\n",
      "4\n"
     ]
    }
   ],
   "source": [
    "def f(a):\n",
    "    print(a)\n",
    "    a += 4\n",
    "    print(a)\n",
    "a = 4\n",
    "f(a)\n",
    "print(a)"
   ]
  },
  {
   "cell_type": "markdown",
   "metadata": {},
   "source": [
    "加了星号(\\*\\)的变量名会存放所有未命名的变量参数，如果在函数调用时没有指定参数，它就是一个空元组"
   ]
  },
  {
   "cell_type": "code",
   "execution_count": 19,
   "metadata": {},
   "outputs": [
    {
     "name": "stdout",
     "output_type": "stream",
     "text": [
      "<class 'tuple'>\n",
      "15\n",
      "<class 'tuple'>\n",
      "10\n",
      "<class 'tuple'>\n",
      "0\n"
     ]
    }
   ],
   "source": [
    "def f(*r):\n",
    "    print(type(r))\n",
    "    s = 0\n",
    "    for i in r:\n",
    "        s += i\n",
    "    return s\n",
    "print(f(1,2,3,4,5))\n",
    "print(f(1,2,3,4))\n",
    "print(f())"
   ]
  },
  {
   "cell_type": "markdown",
   "metadata": {},
   "source": [
    "\\*\\*arg类型的参数，\\*\\*代表一个字典对象"
   ]
  },
  {
   "cell_type": "code",
   "execution_count": 20,
   "metadata": {},
   "outputs": [
    {
     "name": "stdout",
     "output_type": "stream",
     "text": [
      "Key:\n",
      "x\n",
      "y\n",
      "z\n",
      "Value:\n",
      "2\n",
      "python\n",
      "[1, 2, 3]\n",
      "Key:\n",
      "y\n",
      "z\n",
      "Value:\n",
      "21\n",
      "abc\n"
     ]
    }
   ],
   "source": [
    "def f(**r):\n",
    "    print(\"Key:\")\n",
    "    for key in r.keys():\n",
    "        print(key)\n",
    "    print(\"Value:\")\n",
    "    for value in r.values():\n",
    "        print(value)\n",
    "f(x=2,y=\"python\",z=[1,2,3])\n",
    "f(y=21,z=\"abc\")"
   ]
  },
  {
   "cell_type": "markdown",
   "metadata": {},
   "source": [
    "函数的返回值可以是多个，此时返回值以元组对象的类型返回"
   ]
  },
  {
   "cell_type": "code",
   "execution_count": 21,
   "metadata": {},
   "outputs": [
    {
     "name": "stdout",
     "output_type": "stream",
     "text": [
      "(1, 2)\n",
      "<class 'tuple'>\n"
     ]
    }
   ],
   "source": [
    "def f(x,y):\n",
    "    return x,y\n",
    "print(f(1,2))\n",
    "print(type(f(1,2)))"
   ]
  },
  {
   "cell_type": "markdown",
   "metadata": {},
   "source": [
    "如果函数没有返回值则返回None"
   ]
  },
  {
   "cell_type": "code",
   "execution_count": 22,
   "metadata": {},
   "outputs": [
    {
     "name": "stdout",
     "output_type": "stream",
     "text": [
      "No Return\n",
      "None\n"
     ]
    }
   ],
   "source": [
    "def f():\n",
    "    print(\"No Return\")\n",
    "print(f())"
   ]
  },
  {
   "cell_type": "markdown",
   "metadata": {},
   "source": [
    "全局变量 局部变量  \n",
    "- 其中定义在函数内部的变量拥有一个局部作用域，定义在函数外的拥有全局作用域  \n",
    "- 在函数之外定义的变量属于全局变量，用户可以在函数内使用全局变量  \n",
    "- 当用户在函数内定义的变量名称与全局变量名称相同时，函数内定义的变量不会改变全局变量的值，因为函数内定义的变量属于局部命名空间，而全局变量则是属于全局命名空间\n",
    "- 如果在函数内想要改变全局变量的值，就必须使用关键字global"
   ]
  },
  {
   "cell_type": "code",
   "execution_count": 23,
   "metadata": {},
   "outputs": [
    {
     "data": {
      "text/plain": [
       "10"
      ]
     },
     "execution_count": 23,
     "metadata": {},
     "output_type": "execute_result"
    }
   ],
   "source": [
    "x = 10\n",
    "def f(y = x):\n",
    "    return y\n",
    "f(x)"
   ]
  },
  {
   "cell_type": "code",
   "execution_count": 24,
   "metadata": {},
   "outputs": [
    {
     "name": "stdout",
     "output_type": "stream",
     "text": [
      "10\n",
      "10\n"
     ]
    }
   ],
   "source": [
    "x = 10\n",
    "def f():\n",
    "    x = 20\n",
    "    x += 10\n",
    "    return x\n",
    "print(x)\n",
    "f()\n",
    "print(x)"
   ]
  },
  {
   "cell_type": "code",
   "execution_count": 25,
   "metadata": {},
   "outputs": [
    {
     "name": "stdout",
     "output_type": "stream",
     "text": [
      "10\n",
      "30\n"
     ]
    }
   ],
   "source": [
    "x = 10\n",
    "def f():\n",
    "    global x\n",
    "    x = 20\n",
    "    x += 10\n",
    "    return x\n",
    "print(x)\n",
    "f()\n",
    "print(x)"
   ]
  },
  {
   "cell_type": "markdown",
   "metadata": {},
   "source": [
    "函数还有很多内置属性，用户在Python解释器内输入dir(函数名称)，即可以显示这些内置属性"
   ]
  },
  {
   "cell_type": "code",
   "execution_count": 26,
   "metadata": {},
   "outputs": [
    {
     "name": "stdout",
     "output_type": "stream",
     "text": [
      "['__annotations__', '__call__', '__class__', '__closure__', '__code__', '__defaults__', '__delattr__', '__dict__', '__dir__', '__doc__', '__eq__', '__format__', '__ge__', '__get__', '__getattribute__', '__globals__', '__gt__', '__hash__', '__init__', '__init_subclass__', '__kwdefaults__', '__le__', '__lt__', '__module__', '__name__', '__ne__', '__new__', '__qualname__', '__reduce__', '__reduce_ex__', '__repr__', '__setattr__', '__sizeof__', '__str__', '__subclasshook__']\n"
     ]
    }
   ],
   "source": [
    "def f():\n",
    "    return\n",
    "print(dir(f))"
   ]
  },
  {
   "cell_type": "markdown",
   "metadata": {},
   "source": [
    "\\_\\_doc\\_\\_：显示该函数的文件字符串  \n",
    "\\_\\_name\\_\\_:显示该函数的名称"
   ]
  },
  {
   "cell_type": "code",
   "execution_count": 27,
   "metadata": {},
   "outputs": [
    {
     "name": "stdout",
     "output_type": "stream",
     "text": [
      "*a+b\n",
      "add\n"
     ]
    }
   ],
   "source": [
    "def add(a,b):\n",
    "    \"*a+b\"\n",
    "    return a+b\n",
    "print(add.__doc__)\n",
    "print(add.__name__)"
   ]
  }
 ],
 "metadata": {
  "kernelspec": {
   "display_name": "Python 3",
   "language": "python",
   "name": "python3"
  },
  "language_info": {
   "codemirror_mode": {
    "name": "ipython",
    "version": 3
   },
   "file_extension": ".py",
   "mimetype": "text/x-python",
   "name": "python",
   "nbconvert_exporter": "python",
   "pygments_lexer": "ipython3",
   "version": "3.6.8"
  }
 },
 "nbformat": 4,
 "nbformat_minor": 2
}
