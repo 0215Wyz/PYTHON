{
 "cells": [
  {
   "cell_type": "markdown",
   "metadata": {},
   "source": [
    "Python提供了一个***time***和**calendar**模块可以用于格式化日期和时间<br>\n",
    "**时间戳**:指格林威治时间1970年01月01日00时00分00秒(北京时间1970年01月01日08时00分00秒)起至现在的总秒数。通俗的讲， 时间戳是一份能够表示一份数据在一个特定时间点已经存在的、完整的、可验证的数据。<br>"
   ]
  },
  {
   "cell_type": "markdown",
   "metadata": {},
   "source": [
    "时间戳单位最适于做日期运算。但是在1970年之前的日期就无法表示了,太遥远的日期也不行。<br>\n",
    "time.time() 获取当前时间戳"
   ]
  },
  {
   "cell_type": "markdown",
   "metadata": {},
   "source": [
    "## Time模块\n",
    "\n",
    "序号 | 函数及描述\n",
    "- | -\n",
    "1 | time.altzone<br>返回格林威治西部的夏令时地区的偏移秒数。如果该地区在格林威治东部会返回负值（如西欧，包括英国）。对夏令时启用地区才能使用。\n",
    "2 | time.asctime(\\[tupletime\\])<br>接受时间元组并返回一个可读的形式为\"Tue Dec 11 18:07:14 2008\"（2008年12月11日 周二18时07分14秒）的24个字符的字符串。\n",
    "3 | time.clock()<br>用以浮点数计算的秒数返回当前的CPU时间。用来衡量不同程序的耗时，比time.time()更有用。\n",
    "4 | time.ctime(\\[secs\\])<br>作用相当于asctime(localtime(secs))，未给参数相当于asctime()\n",
    "5 | time.gmtime(\\[secs\\])<br>接收时间戳（1970纪元后经过的浮点秒数）并返回格林威治天文时间下的时间元组t。注：t.tm_isdst始终为0\n",
    "6 | time.localtime(\\[secs\\])<br>接收时间戳（1970纪元后经过的浮点秒数）并返回当地时间下的时间元组t（t.tm_isdst可取0或1，取决于当地当时是不是夏令时）。\n",
    "7 | time.mktime(tupletime)<br>接受时间元组并返回时间戳（1970纪元后经过的浮点秒数）。\n",
    "8 | time.sleep(secs)<br>推迟调用线程的运行，secs指秒数。\n",
    "9 | time.strftime(fmt\\[,tupletime\\])<br>接收以时间元组，并返回以可读字符串表示的当地时间，格式由fmt决定。\n",
    "10 | time.strptime(str,fmt='%a %b %d %H:%M:%S %Y')<br>根据fmt的格式把一个时间字符串解析为时间元组。\n",
    "11 | time.time()<br>返回当前时间的时间戳（1970纪元后经过的浮点秒数）。\n",
    "12 | time.tzset()<br>根据环境变量TZ重新初始化时间相关设置。"
   ]
  },
  {
   "cell_type": "markdown",
   "metadata": {},
   "source": [
    "## 时间元组\n",
    "序号 | 字段 | 值\n",
    "- | - | -\n",
    "0 | 4位数年 | 2019\n",
    "1 | 月 | 1到12\n",
    "2 | 日 | 1到31\n",
    "3 | 小时 | 0到23\n",
    "4 | 分钟 | 0到59\n",
    "5 | 秒 | 0到59\n",
    "6 | 一周的第几日 | 0-6（0是周一）\n",
    "7 | 一年的第几日 | 1到366\n",
    "8 | 夏令时 | -1，0，1，-1是决定是否为夏令时的旗帜\n",
    "\n",
    "上述也就是struct_time元组<br>\n",
    "\n",
    "序号 | 属性 | 值\n",
    "- | - | -\n",
    "0 | tm_year | 2019\n",
    "1 | tm_mon | 1到12\n",
    "2 | tm_mday | 1到31\n",
    "3 | tm_hour | 0到23\n",
    "4 | tm_min | 0到59\n",
    "5 | tm_sec | 0到59\n",
    "6 | tm_wday | 0-6（0是周一）\n",
    "7 | tm_yday | 1到366\n",
    "8 | tm_isdst | -1，0，1，-1是决定是否为夏令时的旗帜"
   ]
  },
  {
   "cell_type": "markdown",
   "metadata": {},
   "source": [
    "## 获取当前时间\n",
    "从返回浮点数的时间戳方式向时间元组转换，只要将浮点数传递给localtime之类的函数。"
   ]
  },
  {
   "cell_type": "code",
   "execution_count": 1,
   "metadata": {},
   "outputs": [
    {
     "name": "stdout",
     "output_type": "stream",
     "text": [
      "time.struct_time(tm_year=2019, tm_mon=4, tm_mday=27, tm_hour=17, tm_min=0, tm_sec=47, tm_wday=5, tm_yday=117, tm_isdst=0)\n"
     ]
    }
   ],
   "source": [
    "import time\n",
    "localtime = time.localtime(time.time())\n",
    "print(localtime) #本地时间"
   ]
  },
  {
   "cell_type": "markdown",
   "metadata": {},
   "source": [
    "## 获取格式化时间"
   ]
  },
  {
   "cell_type": "code",
   "execution_count": 2,
   "metadata": {},
   "outputs": [
    {
     "name": "stdout",
     "output_type": "stream",
     "text": [
      "Sat Apr 27 17:00:47 2019\n"
     ]
    }
   ],
   "source": [
    "localtime = time.asctime(time.localtime(time.time()))\n",
    "print(localtime)"
   ]
  },
  {
   "cell_type": "markdown",
   "metadata": {},
   "source": [
    "## 格式化日期\n",
    "我们可以使用time模块的strftime方法来格式化日期\n",
    "### Python 中日期格式化符号\n",
    " - %y 两位数的年份表示（00-99）\n",
    " - %Y 四位数的年份表示（000-9999）\n",
    " - %m 月份（01-12）\n",
    " - %d 月内中的一天（0-31）\n",
    " - %H 24小时制小时数（0-23）\n",
    " - %I 12小时制小时数（01-12）\n",
    " - %M 分钟数（00=59）\n",
    " - %S 秒（00-59）\n",
    " - %a 本地简化星期名称\n",
    " - %A 本地完整星期名称\n",
    " - %b 本地简化的月份名称\n",
    " - %B 本地完整的月份名称\n",
    " - %c 本地相应的日期表示和时间表示\n",
    " - %j 年内的一天（001-366）\n",
    " - %p 本地A.M.或P.M.的等价符\n",
    " - %U 一年中的星期数（00-53）星期天为星期的开始\n",
    " - %w 星期（0-6），星期天为星期的开始\n",
    " - %W 一年中的星期数（00-53）星期一为星期的开始\n",
    " - %x 本地相应的日期表示\n",
    " - %X 本地相应的时间表示\n",
    " - %Z 当前时区的名称\n",
    " - %% %号本身"
   ]
  },
  {
   "cell_type": "markdown",
   "metadata": {},
   "source": [
    "### time.local()时间戳 → 时间元组     time.asctime() 时间元组 → 可视化时间"
   ]
  },
  {
   "cell_type": "code",
   "execution_count": 3,
   "metadata": {},
   "outputs": [
    {
     "data": {
      "text/plain": [
       "time.struct_time(tm_year=2019, tm_mon=4, tm_mday=27, tm_hour=17, tm_min=0, tm_sec=48, tm_wday=5, tm_yday=117, tm_isdst=0)"
      ]
     },
     "execution_count": 3,
     "metadata": {},
     "output_type": "execute_result"
    }
   ],
   "source": [
    "time.localtime()"
   ]
  },
  {
   "cell_type": "code",
   "execution_count": 4,
   "metadata": {},
   "outputs": [
    {
     "data": {
      "text/plain": [
       "'Sat Apr 27 17:00:48 2019'"
      ]
     },
     "execution_count": 4,
     "metadata": {},
     "output_type": "execute_result"
    }
   ],
   "source": [
    "t = time.localtime()\n",
    "time.asctime(t)"
   ]
  },
  {
   "cell_type": "markdown",
   "metadata": {},
   "source": [
    "### time.clock()\n",
    "在不同的系统上含义不同。在UNIX系统上，它返回的是\"进程时间\"，它是用秒表示的浮点数（时间戳）。而在WINDOWS中，第一次调用，返回的是进程运行的实际时间。而第二次之后的调用是自第一次调用以后到现在的运行时间。"
   ]
  },
  {
   "cell_type": "code",
   "execution_count": 5,
   "metadata": {},
   "outputs": [
    {
     "data": {
      "text/plain": [
       "3.7758047939127984e-07"
      ]
     },
     "execution_count": 5,
     "metadata": {},
     "output_type": "execute_result"
    }
   ],
   "source": [
    "time.clock()"
   ]
  },
  {
   "cell_type": "code",
   "execution_count": 6,
   "metadata": {},
   "outputs": [
    {
     "data": {
      "text/plain": [
       "0.06981765128328278"
      ]
     },
     "execution_count": 6,
     "metadata": {},
     "output_type": "execute_result"
    }
   ],
   "source": [
    "time.clock()"
   ]
  },
  {
   "cell_type": "markdown",
   "metadata": {},
   "source": [
    "### time.ctime() 时间戳 → 可视化时间\n",
    "Python time ctime() 函数把一个时间戳（按秒计算的浮点数）转化为time.asctime()的形式。 如果参数未给或者为None的时候，将会默认time.time()为参数。"
   ]
  },
  {
   "cell_type": "code",
   "execution_count": 7,
   "metadata": {},
   "outputs": [
    {
     "data": {
      "text/plain": [
       "'Sat Apr 27 17:00:48 2019'"
      ]
     },
     "execution_count": 7,
     "metadata": {},
     "output_type": "execute_result"
    }
   ],
   "source": [
    "time.ctime()"
   ]
  },
  {
   "cell_type": "markdown",
   "metadata": {},
   "source": [
    "### time.gmtime()\n",
    "Python time gmtime() 函数将一个时间戳转换为UTC时区（0时区）的struct_time，可选的参数sec表示从1970-1-1以来的秒数。其默认值为time.time()，函数返回time.struct_time类型的对象。"
   ]
  },
  {
   "cell_type": "code",
   "execution_count": 8,
   "metadata": {},
   "outputs": [
    {
     "data": {
      "text/plain": [
       "time.struct_time(tm_year=2019, tm_mon=4, tm_mday=27, tm_hour=9, tm_min=0, tm_sec=48, tm_wday=5, tm_yday=117, tm_isdst=0)"
      ]
     },
     "execution_count": 8,
     "metadata": {},
     "output_type": "execute_result"
    }
   ],
   "source": [
    "time.gmtime()"
   ]
  },
  {
   "cell_type": "markdown",
   "metadata": {},
   "source": [
    "### time.mktime() 时间元组 → 时间戳\n",
    "它接收struct_time对象作为参数，返回用秒数来表示时间的浮点数。"
   ]
  },
  {
   "cell_type": "code",
   "execution_count": 9,
   "metadata": {},
   "outputs": [
    {
     "name": "stdout",
     "output_type": "stream",
     "text": [
      "1234861418.0\n",
      "Tue Feb 17 17:03:38 2009\n"
     ]
    }
   ],
   "source": [
    "t = (2009,2,17,17,3,38,1,48,0)\n",
    "secs = time.mktime(t)\n",
    "print(secs)\n",
    "print(time.asctime(time.localtime(secs)))"
   ]
  },
  {
   "cell_type": "markdown",
   "metadata": {},
   "source": [
    "### time.sleep()\n",
    "推迟调用线程的运行，可通过参数secs指秒数，表示进程挂起的时间。"
   ]
  },
  {
   "cell_type": "code",
   "execution_count": 10,
   "metadata": {},
   "outputs": [
    {
     "name": "stdout",
     "output_type": "stream",
     "text": [
      "Sat Apr 27 17:00:48 2019\n",
      "Sat Apr 27 17:00:53 2019\n"
     ]
    }
   ],
   "source": [
    "print(time.ctime())\n",
    "time.sleep(5)\n",
    "print(time.ctime())"
   ]
  },
  {
   "cell_type": "markdown",
   "metadata": {},
   "source": [
    "### time.strftime() 时间元组 → 可视化时间（定制）\n",
    "接收以时间元组，并返回以可读字符串表示的当地时间，格式由参数format决定。"
   ]
  },
  {
   "cell_type": "code",
   "execution_count": 11,
   "metadata": {},
   "outputs": [
    {
     "name": "stdout",
     "output_type": "stream",
     "text": [
      "Feb 17 2009 09:03:38\n"
     ]
    }
   ],
   "source": [
    "t = (2009,2,17,17,3,38,1,48,0)\n",
    "t = time.mktime(t)\n",
    "print(time.strftime(\"%b %d %Y %H:%M:%S\", time.gmtime(t)))"
   ]
  },
  {
   "cell_type": "markdown",
   "metadata": {},
   "source": [
    "### time.strptime() 可视化时间（定制） → 时间元祖\n",
    "根据指定的格式把一个时间字符串解析为时间元组。"
   ]
  },
  {
   "cell_type": "code",
   "execution_count": 12,
   "metadata": {},
   "outputs": [
    {
     "name": "stdout",
     "output_type": "stream",
     "text": [
      "time.struct_time(tm_year=1998, tm_mon=11, tm_mday=30, tm_hour=0, tm_min=0, tm_sec=0, tm_wday=0, tm_yday=334, tm_isdst=-1)\n"
     ]
    }
   ],
   "source": [
    "struct_time = time.strptime(\"30 Nov 98\",\"%d %b %y\")\n",
    "print(struct_time)"
   ]
  },
  {
   "cell_type": "markdown",
   "metadata": {},
   "source": [
    "### time.time()\n",
    "返回当前时间的时间戳（1970纪元后经过的浮点秒数）"
   ]
  },
  {
   "cell_type": "code",
   "execution_count": 13,
   "metadata": {},
   "outputs": [
    {
     "data": {
      "text/plain": [
       "1556355653.7588172"
      ]
     },
     "execution_count": 13,
     "metadata": {},
     "output_type": "execute_result"
    }
   ],
   "source": [
    "time.time()"
   ]
  },
  {
   "cell_type": "markdown",
   "metadata": {},
   "source": [
    "## 获取某月日历"
   ]
  },
  {
   "cell_type": "code",
   "execution_count": 14,
   "metadata": {},
   "outputs": [
    {
     "name": "stdout",
     "output_type": "stream",
     "text": [
      "     April 2019\n",
      "Mo Tu We Th Fr Sa Su\n",
      " 1  2  3  4  5  6  7\n",
      " 8  9 10 11 12 13 14\n",
      "15 16 17 18 19 20 21\n",
      "22 23 24 25 26 27 28\n",
      "29 30\n",
      "\n"
     ]
    }
   ],
   "source": [
    "import calendar\n",
    "cal = calendar.month(2019,4)\n",
    "print(cal)"
   ]
  }
 ],
 "metadata": {
  "kernelspec": {
   "display_name": "Python 3",
   "language": "python",
   "name": "python3"
  },
  "language_info": {
   "codemirror_mode": {
    "name": "ipython",
    "version": 3
   },
   "file_extension": ".py",
   "mimetype": "text/x-python",
   "name": "python",
   "nbconvert_exporter": "python",
   "pygments_lexer": "ipython3",
   "version": "3.6.5"
  }
 },
 "nbformat": 4,
 "nbformat_minor": 2
}
