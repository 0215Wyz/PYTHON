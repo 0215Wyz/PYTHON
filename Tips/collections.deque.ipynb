{
 "cells": [
  {
   "cell_type": "markdown",
   "metadata": {},
   "source": [
    "deque 是为了高校实现插入和删除操作的双向列表  \n",
    "- insert()  \n",
    "- appendleft()  \n",
    "- append()  \n",
    "- extend()  \n",
    "- extendleft()  \n",
    "- deque.maxlen  \n",
    "- pop()  \n",
    "- popleft()  \n",
    "- count(value)  \n",
    "- remove()  \n",
    "- reverse()  \n",
    "- rotate(n=1)  \n",
    "- clear()  "
   ]
  },
  {
   "cell_type": "code",
   "execution_count": 1,
   "metadata": {},
   "outputs": [],
   "source": [
    "from collections import deque"
   ]
  },
  {
   "cell_type": "code",
   "execution_count": 2,
   "metadata": {},
   "outputs": [],
   "source": [
    "# 可以指定队列的长度\n",
    "mydeque = deque(maxlen=10)"
   ]
  },
  {
   "cell_type": "code",
   "execution_count": 3,
   "metadata": {},
   "outputs": [
    {
     "data": {
      "text/plain": [
       "10"
      ]
     },
     "execution_count": 3,
     "metadata": {},
     "output_type": "execute_result"
    }
   ],
   "source": [
    "mydeque.maxlen"
   ]
  },
  {
   "cell_type": "code",
   "execution_count": 4,
   "metadata": {},
   "outputs": [
    {
     "name": "stdout",
     "output_type": "stream",
     "text": [
      "deque([10, 12], maxlen=10)\n"
     ]
    }
   ],
   "source": [
    "# 默认从右边加入\n",
    "mydeque.append(10)\n",
    "mydeque.append(12)\n",
    "print(mydeque)"
   ]
  },
  {
   "cell_type": "code",
   "execution_count": 5,
   "metadata": {},
   "outputs": [
    {
     "name": "stdout",
     "output_type": "stream",
     "text": [
      "deque(['c', 'b', 'a', 10, 12], maxlen=10)\n"
     ]
    }
   ],
   "source": [
    "# 也可以从左边加入\n",
    "mydeque.appendleft('a')\n",
    "mydeque.appendleft('b')\n",
    "mydeque.appendleft('c')\n",
    "print(mydeque)"
   ]
  },
  {
   "cell_type": "code",
   "execution_count": 6,
   "metadata": {},
   "outputs": [
    {
     "name": "stdout",
     "output_type": "stream",
     "text": [
      "deque(['c', 'b', 'a', 10, 12, range(5, 8)], maxlen=10)\n"
     ]
    }
   ],
   "source": [
    "mylist = range(5,8)\n",
    "# 也可以加入一个列表，默认从右边加入\n",
    "mydeque.append(mylist)\n",
    "print(mydeque)"
   ]
  },
  {
   "cell_type": "code",
   "execution_count": 7,
   "metadata": {},
   "outputs": [
    {
     "name": "stdout",
     "output_type": "stream",
     "text": [
      "deque([7, 6, 5, 'c', 'b', 'a', 10, 12, range(5, 8)], maxlen=10)\n"
     ]
    }
   ],
   "source": [
    "mydeque.extendleft(mylist)\n",
    "print(mydeque)"
   ]
  },
  {
   "cell_type": "code",
   "execution_count": 8,
   "metadata": {},
   "outputs": [
    {
     "data": {
      "text/plain": [
       "range(5, 8)"
      ]
     },
     "execution_count": 8,
     "metadata": {},
     "output_type": "execute_result"
    }
   ],
   "source": [
    "# 出队列，返回出队列的元素\n",
    "# 可以从左边也可以从右边出队列\n",
    "mydeque.pop()"
   ]
  },
  {
   "cell_type": "code",
   "execution_count": 9,
   "metadata": {},
   "outputs": [
    {
     "data": {
      "text/plain": [
       "7"
      ]
     },
     "execution_count": 9,
     "metadata": {},
     "output_type": "execute_result"
    }
   ],
   "source": [
    "mydeque.popleft()"
   ]
  },
  {
   "cell_type": "code",
   "execution_count": 10,
   "metadata": {},
   "outputs": [
    {
     "name": "stdout",
     "output_type": "stream",
     "text": [
      "deque([6, 5, 'c', 'b', 'a', 10, 12], maxlen=10)\n",
      "7\n"
     ]
    }
   ],
   "source": [
    "# 查看队列里面的元素个数\n",
    "print(mydeque)\n",
    "print(len(mydeque))"
   ]
  },
  {
   "cell_type": "code",
   "execution_count": 11,
   "metadata": {},
   "outputs": [
    {
     "name": "stdout",
     "output_type": "stream",
     "text": [
      "1\n"
     ]
    }
   ],
   "source": [
    "# 统计元素个数\n",
    "print(mydeque.count('a'))"
   ]
  },
  {
   "cell_type": "code",
   "execution_count": 12,
   "metadata": {},
   "outputs": [
    {
     "name": "stdout",
     "output_type": "stream",
     "text": [
      "deque([6, 5, 'c', 'b', 'a', 10, 12], maxlen=10)\n",
      "deque([6, 'a', 5, 'c', 'b', 'a', 10, 12], maxlen=10)\n"
     ]
    }
   ],
   "source": [
    "# 在某一个位置insert一个元素\n",
    "print(mydeque)\n",
    "mydeque.insert(1,'a')\n",
    "print(mydeque)"
   ]
  },
  {
   "cell_type": "code",
   "execution_count": 13,
   "metadata": {},
   "outputs": [
    {
     "name": "stdout",
     "output_type": "stream",
     "text": [
      "deque([6, 'a', 5, 'c', 'b', 'a', 10, 12], maxlen=10)\n",
      "deque([12, 10, 'a', 'b', 'c', 5, 'a', 6], maxlen=10)\n"
     ]
    }
   ],
   "source": [
    "# 翻转操作\n",
    "print(mydeque)\n",
    "mydeque.reverse()\n",
    "print(mydeque)"
   ]
  },
  {
   "cell_type": "code",
   "execution_count": 14,
   "metadata": {},
   "outputs": [
    {
     "name": "stdout",
     "output_type": "stream",
     "text": [
      "deque([12, 10, 'a', 'b', 'c', 5, 'a', 6], maxlen=10)\n",
      "deque([12, 'a', 'b', 'c', 5, 'a', 6], maxlen=10)\n"
     ]
    }
   ],
   "source": [
    "# remove 移除某个元素\n",
    "print(mydeque)\n",
    "mydeque.remove(10)\n",
    "print(mydeque)\n",
    "# 如果要移除的元素不在deque内，则会报错\n",
    "# mydeque.remove(1)\n",
    "# print(mydeque)"
   ]
  },
  {
   "cell_type": "code",
   "execution_count": 15,
   "metadata": {},
   "outputs": [
    {
     "name": "stdout",
     "output_type": "stream",
     "text": [
      "deque([12, 'a', 'b', 'c', 5, 'a', 6], maxlen=10)\n",
      "deque([], maxlen=10)\n"
     ]
    }
   ],
   "source": [
    "# 请空队列元素 \n",
    "print(mydeque)\n",
    "mydeque.clear()\n",
    "print(mydeque)"
   ]
  },
  {
   "cell_type": "markdown",
   "metadata": {},
   "source": [
    "### 重要方法\n",
    "rotate（value) 对队列实行旋转操作（每个元素依次向后移动value步，最后一个移动到第一个算一步）"
   ]
  },
  {
   "cell_type": "code",
   "execution_count": 16,
   "metadata": {},
   "outputs": [],
   "source": [
    "from collections import deque"
   ]
  },
  {
   "cell_type": "code",
   "execution_count": 17,
   "metadata": {},
   "outputs": [],
   "source": [
    "d = deque()"
   ]
  },
  {
   "cell_type": "code",
   "execution_count": 18,
   "metadata": {},
   "outputs": [],
   "source": [
    "d.extend(['a','b','c','d','e'])"
   ]
  },
  {
   "cell_type": "code",
   "execution_count": 19,
   "metadata": {},
   "outputs": [],
   "source": [
    "d.rotate(2)"
   ]
  },
  {
   "cell_type": "code",
   "execution_count": 20,
   "metadata": {},
   "outputs": [
    {
     "name": "stdout",
     "output_type": "stream",
     "text": [
      "deque(['d', 'e', 'a', 'b', 'c'])\n"
     ]
    }
   ],
   "source": [
    "print(d)"
   ]
  },
  {
   "cell_type": "markdown",
   "metadata": {},
   "source": [
    "maxlen,如果在构建deque的时候指定了maxlen，则可以通过d.maxlen来获取deque的最大长度，如果插入的数据个数大于maxlen则会自动删除旧的元素，删除什么元素取决于从哪边添加数据"
   ]
  },
  {
   "cell_type": "code",
   "execution_count": 21,
   "metadata": {},
   "outputs": [],
   "source": [
    "d = deque(list(range(5)),maxlen=5)"
   ]
  },
  {
   "cell_type": "code",
   "execution_count": 22,
   "metadata": {},
   "outputs": [
    {
     "data": {
      "text/plain": [
       "deque([0, 1, 2, 3, 4])"
      ]
     },
     "execution_count": 22,
     "metadata": {},
     "output_type": "execute_result"
    }
   ],
   "source": [
    "d"
   ]
  },
  {
   "cell_type": "code",
   "execution_count": 23,
   "metadata": {},
   "outputs": [
    {
     "data": {
      "text/plain": [
       "5"
      ]
     },
     "execution_count": 23,
     "metadata": {},
     "output_type": "execute_result"
    }
   ],
   "source": [
    "d.maxlen"
   ]
  },
  {
   "cell_type": "code",
   "execution_count": 24,
   "metadata": {},
   "outputs": [
    {
     "name": "stdout",
     "output_type": "stream",
     "text": [
      "deque([0, 1, 2, 3, 4], maxlen=5)\n",
      "deque(['a', 0, 1, 2, 3], maxlen=5)\n"
     ]
    }
   ],
   "source": [
    "# 从左边添加元素，元素4被挤出队列\n",
    "print(d)\n",
    "d.appendleft('a')\n",
    "print(d)"
   ]
  },
  {
   "cell_type": "code",
   "execution_count": 25,
   "metadata": {},
   "outputs": [
    {
     "name": "stdout",
     "output_type": "stream",
     "text": [
      "deque(['a', 0, 1, 2, 3], maxlen=5)\n",
      "deque([0, 1, 2, 3, 'abc'], maxlen=5)\n"
     ]
    }
   ],
   "source": [
    "# 从右边添加元素，元素'a'被挤出队列\n",
    "print(d)\n",
    "d.append('abc')\n",
    "print(d)"
   ]
  }
 ],
 "metadata": {
  "kernelspec": {
   "display_name": "Python 3",
   "language": "python",
   "name": "python3"
  },
  "language_info": {
   "codemirror_mode": {
    "name": "ipython",
    "version": 3
   },
   "file_extension": ".py",
   "mimetype": "text/x-python",
   "name": "python",
   "nbconvert_exporter": "python",
   "pygments_lexer": "ipython3",
   "version": "3.6.8"
  }
 },
 "nbformat": 4,
 "nbformat_minor": 2
}
